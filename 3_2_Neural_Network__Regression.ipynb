{
  "nbformat": 4,
  "nbformat_minor": 0,
  "metadata": {
    "colab": {
      "name": "3_2_Neural_Network_ Regression.ipynb",
      "provenance": [],
      "collapsed_sections": [],
      "authorship_tag": "ABX9TyNIBfSacLk0foBI+4KFr++Z",
      "include_colab_link": true
    },
    "kernelspec": {
      "name": "python3",
      "display_name": "Python 3"
    }
  },
  "cells": [
    {
      "cell_type": "markdown",
      "metadata": {
        "id": "view-in-github",
        "colab_type": "text"
      },
      "source": [
        "<a href=\"https://colab.research.google.com/github/hyeonjun/AlphaZero/blob/master/3_2_Neural_Network__Regression.ipynb\" target=\"_parent\"><img src=\"https://colab.research.google.com/assets/colab-badge.svg\" alt=\"Open In Colab\"/></a>"
      ]
    },
    {
      "cell_type": "markdown",
      "metadata": {
        "id": "X87GdJTJTsUV"
      },
      "source": [
        "# 회귀란\n",
        "다수의 특징 데이터를 기반으로 연속값 등의 수치를 예측하는 태스크\n",
        "\n",
        "* 주택 정보 데이터 세트(Boston house-prices)\n",
        "\n",
        "Boston house-prices는 미국 보스턴시 주택의 특징과 정답 라벨인 가격을 함께 저장해 둔 데이터 세트. 훈련데이터 404건, 테스트 데이터 102건\n",
        "\n"
      ]
    },
    {
      "cell_type": "code",
      "metadata": {
        "id": "gLfSMDQDPjMV"
      },
      "source": [
        "from tensorflow.keras.datasets import boston_housing\n",
        "from tensorflow.keras.layers import Activation, Dense, Dropout\n",
        "from tensorflow.keras.models import Sequential\n",
        "from tensorflow.keras.callbacks import EarlyStopping\n",
        "from tensorflow.keras.optimizers import Adam\n",
        "import pandas as pd\n",
        "import numpy as np\n",
        "import matplotlib.pyplot as plt\n",
        "%matplotlib inline"
      ],
      "execution_count": null,
      "outputs": []
    },
    {
      "cell_type": "code",
      "metadata": {
        "colab": {
          "base_uri": "https://localhost:8080/"
        },
        "id": "YfJ9JwSyUuEO",
        "outputId": "19c5ef02-bdde-485b-fbf1-b03beeb9740a"
      },
      "source": [
        "# 데이터 세트 준비 및 확인\n",
        "(train_data, train_labels),(test_data,test_labels) = boston_housing.load_data()"
      ],
      "execution_count": null,
      "outputs": [
        {
          "output_type": "stream",
          "text": [
            "Downloading data from https://storage.googleapis.com/tensorflow/tf-keras-datasets/boston_housing.npz\n",
            "57344/57026 [==============================] - 0s 0us/step\n"
          ],
          "name": "stdout"
        }
      ]
    },
    {
      "cell_type": "code",
      "metadata": {
        "colab": {
          "base_uri": "https://localhost:8080/"
        },
        "id": "yZw-f6nDU48q",
        "outputId": "2538ad42-d1c9-4665-bd71-3116755f92ec"
      },
      "source": [
        "# 데이터 세트 형태 확인\n",
        "# 13은 데이터 세트 특징 개수다\n",
        "print(train_data.shape)\n",
        "print(train_labels.shape)\n",
        "print(test_data.shape)\n",
        "print(test_labels.shape)"
      ],
      "execution_count": null,
      "outputs": [
        {
          "output_type": "stream",
          "text": [
            "(404, 13)\n",
            "(404,)\n",
            "(102, 13)\n",
            "(102,)\n"
          ],
          "name": "stdout"
        }
      ]
    },
    {
      "cell_type": "markdown",
      "metadata": {
        "id": "k1ONTG8wVcg-"
      },
      "source": [
        "# 데이터 세트 확인\n",
        "\n",
        "훈련 데이터 중 첫 10개를 확인\n",
        "\n",
        "pandas를 사용해서 데이터 세트의 내용을 테이블 형식으로 출력한다.\n",
        "\n",
        "pandas는 리스트 구조인 'Series'와 테이블 구조인 'DataFrame'이라는 두 가지 데이터 구조를 제공한다.\n",
        "\n",
        "DataFrame(data=None, index=None, columns=None)\n",
        "\n",
        "data(ndarray 타입 혹은 Iterable 타입 혹은 dict 타입 혹은 DataFrame 타입) 데이터\n",
        "columns(Index 타입 혹은 array-like 타입) 컬럼명 리스트\n"
      ]
    },
    {
      "cell_type": "code",
      "metadata": {
        "colab": {
          "base_uri": "https://localhost:8080/",
          "height": 195
        },
        "id": "e_7yJqzpV--V",
        "outputId": "f219b162-ad28-44c6-ddf4-2bc153dcc400"
      },
      "source": [
        "column_names = ['CRIM', 'ZN', 'INDUS', 'CHAS', 'NOX', 'RM', 'AGE', 'DIS', 'RAD', 'TAX', 'PTRATIO', 'B', 'LSTAT']\n",
        "df = pd.DataFrame(train_data, columns=column_names)\n",
        "df.head()"
      ],
      "execution_count": null,
      "outputs": [
        {
          "output_type": "execute_result",
          "data": {
            "text/html": [
              "<div>\n",
              "<style scoped>\n",
              "    .dataframe tbody tr th:only-of-type {\n",
              "        vertical-align: middle;\n",
              "    }\n",
              "\n",
              "    .dataframe tbody tr th {\n",
              "        vertical-align: top;\n",
              "    }\n",
              "\n",
              "    .dataframe thead th {\n",
              "        text-align: right;\n",
              "    }\n",
              "</style>\n",
              "<table border=\"1\" class=\"dataframe\">\n",
              "  <thead>\n",
              "    <tr style=\"text-align: right;\">\n",
              "      <th></th>\n",
              "      <th>CRIM</th>\n",
              "      <th>ZN</th>\n",
              "      <th>INDUS</th>\n",
              "      <th>CHAS</th>\n",
              "      <th>NOX</th>\n",
              "      <th>RM</th>\n",
              "      <th>AGE</th>\n",
              "      <th>DIS</th>\n",
              "      <th>RAD</th>\n",
              "      <th>TAX</th>\n",
              "      <th>PTRATIO</th>\n",
              "      <th>B</th>\n",
              "      <th>LSTAT</th>\n",
              "    </tr>\n",
              "  </thead>\n",
              "  <tbody>\n",
              "    <tr>\n",
              "      <th>0</th>\n",
              "      <td>1.23247</td>\n",
              "      <td>0.0</td>\n",
              "      <td>8.14</td>\n",
              "      <td>0.0</td>\n",
              "      <td>0.538</td>\n",
              "      <td>6.142</td>\n",
              "      <td>91.7</td>\n",
              "      <td>3.9769</td>\n",
              "      <td>4.0</td>\n",
              "      <td>307.0</td>\n",
              "      <td>21.0</td>\n",
              "      <td>396.90</td>\n",
              "      <td>18.72</td>\n",
              "    </tr>\n",
              "    <tr>\n",
              "      <th>1</th>\n",
              "      <td>0.02177</td>\n",
              "      <td>82.5</td>\n",
              "      <td>2.03</td>\n",
              "      <td>0.0</td>\n",
              "      <td>0.415</td>\n",
              "      <td>7.610</td>\n",
              "      <td>15.7</td>\n",
              "      <td>6.2700</td>\n",
              "      <td>2.0</td>\n",
              "      <td>348.0</td>\n",
              "      <td>14.7</td>\n",
              "      <td>395.38</td>\n",
              "      <td>3.11</td>\n",
              "    </tr>\n",
              "    <tr>\n",
              "      <th>2</th>\n",
              "      <td>4.89822</td>\n",
              "      <td>0.0</td>\n",
              "      <td>18.10</td>\n",
              "      <td>0.0</td>\n",
              "      <td>0.631</td>\n",
              "      <td>4.970</td>\n",
              "      <td>100.0</td>\n",
              "      <td>1.3325</td>\n",
              "      <td>24.0</td>\n",
              "      <td>666.0</td>\n",
              "      <td>20.2</td>\n",
              "      <td>375.52</td>\n",
              "      <td>3.26</td>\n",
              "    </tr>\n",
              "    <tr>\n",
              "      <th>3</th>\n",
              "      <td>0.03961</td>\n",
              "      <td>0.0</td>\n",
              "      <td>5.19</td>\n",
              "      <td>0.0</td>\n",
              "      <td>0.515</td>\n",
              "      <td>6.037</td>\n",
              "      <td>34.5</td>\n",
              "      <td>5.9853</td>\n",
              "      <td>5.0</td>\n",
              "      <td>224.0</td>\n",
              "      <td>20.2</td>\n",
              "      <td>396.90</td>\n",
              "      <td>8.01</td>\n",
              "    </tr>\n",
              "    <tr>\n",
              "      <th>4</th>\n",
              "      <td>3.69311</td>\n",
              "      <td>0.0</td>\n",
              "      <td>18.10</td>\n",
              "      <td>0.0</td>\n",
              "      <td>0.713</td>\n",
              "      <td>6.376</td>\n",
              "      <td>88.4</td>\n",
              "      <td>2.5671</td>\n",
              "      <td>24.0</td>\n",
              "      <td>666.0</td>\n",
              "      <td>20.2</td>\n",
              "      <td>391.43</td>\n",
              "      <td>14.65</td>\n",
              "    </tr>\n",
              "  </tbody>\n",
              "</table>\n",
              "</div>"
            ],
            "text/plain": [
              "      CRIM    ZN  INDUS  CHAS    NOX  ...   RAD    TAX  PTRATIO       B  LSTAT\n",
              "0  1.23247   0.0   8.14   0.0  0.538  ...   4.0  307.0     21.0  396.90  18.72\n",
              "1  0.02177  82.5   2.03   0.0  0.415  ...   2.0  348.0     14.7  395.38   3.11\n",
              "2  4.89822   0.0  18.10   0.0  0.631  ...  24.0  666.0     20.2  375.52   3.26\n",
              "3  0.03961   0.0   5.19   0.0  0.515  ...   5.0  224.0     20.2  396.90   8.01\n",
              "4  3.69311   0.0  18.10   0.0  0.713  ...  24.0  666.0     20.2  391.43  14.65\n",
              "\n",
              "[5 rows x 13 columns]"
            ]
          },
          "metadata": {
            "tags": []
          },
          "execution_count": 7
        }
      ]
    },
    {
      "cell_type": "code",
      "metadata": {
        "colab": {
          "base_uri": "https://localhost:8080/"
        },
        "id": "f69Oj1cLWbDD",
        "outputId": "f36af1ce-82cf-4af8-dc69-1de3d2678d3c"
      },
      "source": [
        "# 데이터 세트의 라벨 확인\n",
        "print(train_labels[0:10])"
      ],
      "execution_count": null,
      "outputs": [
        {
          "output_type": "stream",
          "text": [
            "[15.2 42.3 50.  21.1 17.7 18.5 11.3 15.6 15.6 14.4]\n"
          ],
          "name": "stdout"
        }
      ]
    },
    {
      "cell_type": "markdown",
      "metadata": {
        "id": "dA4-WLgKWlbZ"
      },
      "source": [
        "# 데이터 세트 전처리 및 확인\n",
        "\n",
        "훈련 데이터와 훈련 라벨 셔플\n",
        "\n",
        "학습 시 비슷한 데이터를 연속해서 학습하면 바이어스가 생기기 때문에 비슷한 데이터가 가까이 모여있는 경우 데이터를 뒤섞어 주는 것이 좋다.\n",
        "\n",
        "np.random.random()으로 데이터 수만큼 연속적으로 균일하게 분포된 난수를 생성하고,\n",
        "np.agrsort()를 사용해 정렬하고 싶은 인덱스 순서를 생성한 뒤, 훈련 데이터와 훈련 라벨 모두에 적용한다.\n"
      ]
    },
    {
      "cell_type": "code",
      "metadata": {
        "id": "2F4LA4dTW_4q"
      },
      "source": [
        "# 데이터 세트 전처리(셔플)\n",
        "order = np.argsort(np.random.random(train_labels.shape))\n",
        "train_data = train_data[order]\n",
        "train_labels = train_labels[order]"
      ],
      "execution_count": null,
      "outputs": []
    },
    {
      "cell_type": "markdown",
      "metadata": {
        "id": "NQ3P8AS3XO7E"
      },
      "source": [
        "# 훈련 데이터와 테스트 데이터 표준화\n",
        "\n",
        "'표준화'란 데이터를 일정한 방법으로 변형시켜 차원(단위)이 다른 데이터를 비교하기 쉽게 동일한 범위로 변환하는 작업\n",
        "\n",
        "여기서는 모든 특징 데이터를 평균 0, 분산 1로 표준화한다.\n",
        "\n",
        "Y = (X-μ)/δ ( Y:표준화한 데이터, X:원 데이터, μ:X의 평균, δ:X의 표준편차)\n",
        "\n",
        "표준편차는 ndarray의 std(), 평균은 ndarray의 mean() 메소드로 구할 수 있다."
      ]
    },
    {
      "cell_type": "code",
      "metadata": {
        "id": "gzisjm9yX2XK"
      },
      "source": [
        "# 데이터 세트 전처리(표준화)\n",
        "mean = train_data.mean(axis=0)\n",
        "std = train_data.std(axis=0)\n",
        "train_data = (train_data - mean) / std\n",
        "mean = test_data.mean(axis=0)\n",
        "std = test_data.std(axis=0)\n",
        "test_data = (test_data - mean) / std"
      ],
      "execution_count": null,
      "outputs": []
    },
    {
      "cell_type": "code",
      "metadata": {
        "colab": {
          "base_uri": "https://localhost:8080/",
          "height": 195
        },
        "id": "6vcYokjJYLTq",
        "outputId": "fdc73cfa-a345-40ff-ecd6-eee528d354ef"
      },
      "source": [
        "# 데이터 세트 전처리 확인\n",
        "column_names = ['CRIME', 'ZN', 'INDUS', 'CHAS', 'NOX', 'RM', 'AGE', 'DIS', 'RAD', 'TAX', 'PTRATIO', 'B', 'LSTAT']\n",
        "df = pd.DataFrame(train_data, columns=column_names)\n",
        "df.head()"
      ],
      "execution_count": null,
      "outputs": [
        {
          "output_type": "execute_result",
          "data": {
            "text/html": [
              "<div>\n",
              "<style scoped>\n",
              "    .dataframe tbody tr th:only-of-type {\n",
              "        vertical-align: middle;\n",
              "    }\n",
              "\n",
              "    .dataframe tbody tr th {\n",
              "        vertical-align: top;\n",
              "    }\n",
              "\n",
              "    .dataframe thead th {\n",
              "        text-align: right;\n",
              "    }\n",
              "</style>\n",
              "<table border=\"1\" class=\"dataframe\">\n",
              "  <thead>\n",
              "    <tr style=\"text-align: right;\">\n",
              "      <th></th>\n",
              "      <th>CRIME</th>\n",
              "      <th>ZN</th>\n",
              "      <th>INDUS</th>\n",
              "      <th>CHAS</th>\n",
              "      <th>NOX</th>\n",
              "      <th>RM</th>\n",
              "      <th>AGE</th>\n",
              "      <th>DIS</th>\n",
              "      <th>RAD</th>\n",
              "      <th>TAX</th>\n",
              "      <th>PTRATIO</th>\n",
              "      <th>B</th>\n",
              "      <th>LSTAT</th>\n",
              "    </tr>\n",
              "  </thead>\n",
              "  <tbody>\n",
              "    <tr>\n",
              "      <th>0</th>\n",
              "      <td>-0.397656</td>\n",
              "      <td>0.906544</td>\n",
              "      <td>-1.311862</td>\n",
              "      <td>-0.256833</td>\n",
              "      <td>-0.728617</td>\n",
              "      <td>1.626329</td>\n",
              "      <td>0.103539</td>\n",
              "      <td>-0.316157</td>\n",
              "      <td>-0.280929</td>\n",
              "      <td>-1.106699</td>\n",
              "      <td>-0.034578</td>\n",
              "      <td>0.448077</td>\n",
              "      <td>-0.865470</td>\n",
              "    </tr>\n",
              "    <tr>\n",
              "      <th>1</th>\n",
              "      <td>1.530084</td>\n",
              "      <td>-0.483615</td>\n",
              "      <td>1.028326</td>\n",
              "      <td>-0.256833</td>\n",
              "      <td>0.970091</td>\n",
              "      <td>-0.062182</td>\n",
              "      <td>1.110488</td>\n",
              "      <td>-1.161005</td>\n",
              "      <td>1.675886</td>\n",
              "      <td>1.565287</td>\n",
              "      <td>0.784476</td>\n",
              "      <td>0.414458</td>\n",
              "      <td>1.247548</td>\n",
              "    </tr>\n",
              "    <tr>\n",
              "      <th>2</th>\n",
              "      <td>-0.252594</td>\n",
              "      <td>-0.483615</td>\n",
              "      <td>1.245881</td>\n",
              "      <td>3.893584</td>\n",
              "      <td>2.677335</td>\n",
              "      <td>-0.194781</td>\n",
              "      <td>0.967150</td>\n",
              "      <td>-0.981837</td>\n",
              "      <td>-0.511142</td>\n",
              "      <td>-0.017443</td>\n",
              "      <td>-1.718189</td>\n",
              "      <td>-0.359203</td>\n",
              "      <td>0.328364</td>\n",
              "    </tr>\n",
              "    <tr>\n",
              "      <th>3</th>\n",
              "      <td>-0.283720</td>\n",
              "      <td>-0.483615</td>\n",
              "      <td>1.245881</td>\n",
              "      <td>3.893584</td>\n",
              "      <td>2.677335</td>\n",
              "      <td>-1.770442</td>\n",
              "      <td>0.680474</td>\n",
              "      <td>-1.050486</td>\n",
              "      <td>-0.511142</td>\n",
              "      <td>-0.017443</td>\n",
              "      <td>-1.718189</td>\n",
              "      <td>-0.122381</td>\n",
              "      <td>-0.085682</td>\n",
              "    </tr>\n",
              "    <tr>\n",
              "      <th>4</th>\n",
              "      <td>-0.339182</td>\n",
              "      <td>-0.483615</td>\n",
              "      <td>-0.720935</td>\n",
              "      <td>-0.256833</td>\n",
              "      <td>-0.429849</td>\n",
              "      <td>0.495012</td>\n",
              "      <td>0.422466</td>\n",
              "      <td>-0.230888</td>\n",
              "      <td>-0.165822</td>\n",
              "      <td>-0.595170</td>\n",
              "      <td>-0.489608</td>\n",
              "      <td>0.448077</td>\n",
              "      <td>-0.709513</td>\n",
              "    </tr>\n",
              "  </tbody>\n",
              "</table>\n",
              "</div>"
            ],
            "text/plain": [
              "      CRIME        ZN     INDUS  ...   PTRATIO         B     LSTAT\n",
              "0 -0.397656  0.906544 -1.311862  ... -0.034578  0.448077 -0.865470\n",
              "1  1.530084 -0.483615  1.028326  ...  0.784476  0.414458  1.247548\n",
              "2 -0.252594 -0.483615  1.245881  ... -1.718189 -0.359203  0.328364\n",
              "3 -0.283720 -0.483615  1.245881  ... -1.718189 -0.122381 -0.085682\n",
              "4 -0.339182 -0.483615 -0.720935  ... -0.489608  0.448077 -0.709513\n",
              "\n",
              "[5 rows x 13 columns]"
            ]
          },
          "metadata": {
            "tags": []
          },
          "execution_count": 11
        }
      ]
    },
    {
      "cell_type": "code",
      "metadata": {
        "id": "p91RSVRKYspc"
      },
      "source": [
        "# 뉴럴 네트워크 모델을 생성\n",
        "model = Sequential()\n",
        "model.add(Dense(64, activation='relu', input_shape=(13,)))\n",
        "model.add(Dense(64, activation='relu'))\n",
        "model.add(Dense(1))"
      ],
      "execution_count": null,
      "outputs": []
    },
    {
      "cell_type": "markdown",
      "metadata": {
        "id": "Y5j1jWmcY8yZ"
      },
      "source": [
        "# 컴파일\n",
        "뉴럴 네트워크 모델을 컴파일한다. 여기서 손실함수는 회귀인 'MSE', 최적화 함수는 'Adam', 평가 지표는 'MAE'를 지정\n",
        "\n",
        "MSE(mean squared error)는 '평균 제곱 오차'라고도 불리며, 실제값과 예측값의 오차 제곱을 평균한 것이다.\n",
        "\n",
        "![MSE.JPG](data:image/jpeg;base64,/9j/4AAQSkZJRgABAQEAeAB4AAD/4RDcRXhpZgAATU0AKgAAAAgABAE7AAIAAAAKAAAISodpAAQAAAABAAAIVJydAAEAAAAIAAAQzOocAAcAAAgMAAAAPgAAAAAc6gAAAAgAAAAAAAAAAAAAAAAAAAAAAAAAAAAAAAAAAAAAAAAAAAAAAAAAAAAAAAAAAAAAAAAAAAAAAAAAAAAAAAAAAAAAAAAAAAAAAAAAAAAAAAAAAAAAAAAAAAAAAAAAAAAAAAAAAAAAAAAAAAAAAAAAAAAAAAAAAAAAAAAAAAAAAAAAAAAAAAAAAAAAAAAAAAAAAAAAAAAAAAAAAAAAAAAAAAAAAAAAAAAAAAAAAAAAAAAAAAAAAAAAAAAAAAAAAAAAAAAAAAAAAAAAAAAAAAAAAAAAAAAAAAAAAAAAAAAAAAAAAAAAAAAAAAAAAAAAAAAAAAAAAAAAAAAAAAAAAAAAAAAAAAAAAAAAAAAAAAAAAAAAAAAAAAAAAAAAAAAAAAAAAAAAAAAAAAAAAAAAAAAAAAAAAAAAAAAAAAAAAAAAAAAAAAAAAAAAAAAAAAAAAAAAAAAAAAAAAAAAAAAAAAAAAAAAAAAAAAAAAAAAAAAAAAAAAAAAAAAAAAAAAAAAAAAAAAAAAAAAAAAAAAAAAAAAAAAAAAAAAAAAAAAAAAAAAAAAAAAAAAAAAAAAAAAAAAAAAAAAAAAAAAAAAAAAAAAAAAAAAAAAAAAAAAAAAAAAAAAAAAAAAAAAAAAAAAAAAAAAAAAAAAAAAAAAAAAAAAAAAAAAAAAAAAAAAAAAAAAAAAAAAAAAAAAAAAAAAAAAAAAAAAAAAAAAAAAAAAAAAAAAAAAAAAAAAAAAAAAAAAAAAAAAAAAAAAAAAAAAAAAAAAAAAAAAAAAAAAAAAAAAAAAAAAAAAAAAAAAAAAAAAAAAAAAAAAAAAAAAAAAAAAAAAAAAAAAAAAAAAAAAAAAAAAAAAAAAAAAAAAAAAAAAAAAAAAAAAAAAAAAAAAAAAAAAAAAAAAAAAAAAAAAAAAAAAAAAAAAAAAAAAAAAAAAAAAAAAAAAAAAAAAAAAAAAAAAAAAAAAAAAAAAAAAAAAAAAAAAAAAAAAAAAAAAAAAAAAAAAAAAAAAAAAAAAAAAAAAAAAAAAAAAAAAAAAAAAAAAAAAAAAAAAAAAAAAAAAAAAAAAAAAAAAAAAAAAAAAAAAAAAAAAAAAAAAAAAAAAAAAAAAAAAAAAAAAAAAAAAAAAAAAAAAAAAAAAAAAAAAAAAAAAAAAAAAAAAAAAAAAAAAAAAAAAAAAAAAAAAAAAAAAAAAAAAAAAAAAAAAAAAAAAAAAAAAAAAAAAAAAAAAAAAAAAAAAAAAAAAAAAAAAAAAAAAAAAAAAAAAAAAAAAAAAAAAAAAAAAAAAAAAAAAAAAAAAAAAAAAAAAAAAAAAAAAAAAAAAAAAAAAAAAAAAAAAAAAAAAAAAAAAAAAAAAAAAAAAAAAAAAAAAAAAAAAAAAAAAAAAAAAAAAAAAAAAAAAAAAAAAAAAAAAAAAAAAAAAAAAAAAAAAAAAAAAAAAAAAAAAAAAAAAAAAAAAAAAAAAAAAAAAAAAAAAAAAAAAAAAAAAAAAAAAAAAAAAAAAAAAAAAAAAAAAAAAAAAAAAAAAAAAAAAAAAAAAAAAAAAAAAAAAAAAAAAAAAAAAAAAAAAAAAAAAAAAAAAAAAAAAAAAAAAAAAAAAAAAAAAAAAAAAAAAAAAAAAAAAAAAAAAAAAAAAAAAAAAAAAAAAAAAAAAAAAAAAAAAAAAAAAAAAAAAAAAAAAAAAAAAAAAAAAAAAAAAAAAAAAAAAAAAAAAAAAAAAAAAAAAAAAAAAAAAAAAAAAAAAAAAAAAAAAAAAAAAAAAAAAAAAAAAAAAAAAAAAAAAAAAAAAAAAAAAAAAAAAAAAAAAAAAAAAAAAAAAAAAAAAAAAAAAAAAAAAAAAAAAAAAAAAAAAAAAAAAAAAAAAAAAAAAAAAAAAAAAAAAAAAAAAAAAAAAAAAAAAAAAAAAAAAAAAAAAAAAAAAAAAAAAAAAAAAAAAAAAAAAAAAAAAAAAAAAAAAAAAAAAAAAAAAAAAAAAAAAAAAAAAAAAAAAAAAAAAAAAAAAAAAAAAAAAAAAAAAAAAAAAAAAAAAAAAAAAAAAAAAAAAAAAAAAAAAAAAAAAAAAAAAAAAAAAAAAAAAAAAAAAAAAAAAAAAAAAAAAAAAAAAAAAAAAAAAAAAAAAAAAAAAAAAAAAAAAAAAAAAAAAAAAAAAAAAAAAAAAAAAAAAAAAAAAAAAAAAAAAAAAAAAAAAAAAAAAAAAAAAAAAAAAAAAAAAAAAAAAAAAAAAAAAAAAAAAAAAAAAAAAAAAAAAAAAAAAAAAAAAAAAAAAAAAAAAAAAAAAAAAAAAAAAAAAAAAAAAAAAAAAAAAAAAAAAAAAAAAAAAAAAAAAAAAAAAAAAAAAAAAAAAAAAAAAAAAAAAAAAAAAAAAAAAAAAAAAAAAAAAAAAAAAAAAAAAAAAAAAAAAAAAAAAAAAAAAAAAAAAAAAAAAAAAAAAAAAAAAAAAAAAAAAAAAAAAAAAAAAAAAAAAAAAAAAAAAAAAAAAAAAAAAAAAAAAAAAAAAAAAAAAAAAAAAAAAAAAAAAAAAAAAAAAAAAAAAAAAAAAAAAAAAAAAAAAAAAAAAAAAAAAAAAAAAAAAAAAAAAAAAAAAAAAAAAAAAAAAAAAAAAAAAAAAAAAAAAAAAAAAAAAAAAAAAAAAAAAAAAAAAAAAAAAAAAAAAAAAAAAAAAAAAAAAAAAAAAAAAAAAAAAAAAAAAAAAAAAAAAAAAAAAAAAAAAAAAAAAAAAAAAAAAAAAAAAAAAAAAAAAAAAAAAAOyjvO2YhOykgAAABZADAAIAAAAUAAAQopAEAAIAAAAUAAAQtpKRAAIAAAADNTAAAJKSAAIAAAADNTAAAOocAAcAAAgMAAAIlgAAAAAc6gAAAAgAAAAAAAAAAAAAAAAAAAAAAAAAAAAAAAAAAAAAAAAAAAAAAAAAAAAAAAAAAAAAAAAAAAAAAAAAAAAAAAAAAAAAAAAAAAAAAAAAAAAAAAAAAAAAAAAAAAAAAAAAAAAAAAAAAAAAAAAAAAAAAAAAAAAAAAAAAAAAAAAAAAAAAAAAAAAAAAAAAAAAAAAAAAAAAAAAAAAAAAAAAAAAAAAAAAAAAAAAAAAAAAAAAAAAAAAAAAAAAAAAAAAAAAAAAAAAAAAAAAAAAAAAAAAAAAAAAAAAAAAAAAAAAAAAAAAAAAAAAAAAAAAAAAAAAAAAAAAAAAAAAAAAAAAAAAAAAAAAAAAAAAAAAAAAAAAAAAAAAAAAAAAAAAAAAAAAAAAAAAAAAAAAAAAAAAAAAAAAAAAAAAAAAAAAAAAAAAAAAAAAAAAAAAAAAAAAAAAAAAAAAAAAAAAAAAAAAAAAAAAAAAAAAAAAAAAAAAAAAAAAAAAAAAAAAAAAAAAAAAAAAAAAAAAAAAAAAAAAAAAAAAAAAAAAAAAAAAAAAAAAAAAAAAAAAAAAAAAAAAAAAAAAAAAAAAAAAAAAAAAAAAAAAAAAAAAAAAAAAAAAAAAAAAAAAAAAAAAAAAAAAAAAAAAAAAAAAAAAAAAAAAAAAAAAAAAAAAAAAAAAAAAAAAAAAAAAAAAAAAAAAAAAAAAAAAAAAAAAAAAAAAAAAAAAAAAAAAAAAAAAAAAAAAAAAAAAAAAAAAAAAAAAAAAAAAAAAAAAAAAAAAAAAAAAAAAAAAAAAAAAAAAAAAAAAAAAAAAAAAAAAAAAAAAAAAAAAAAAAAAAAAAAAAAAAAAAAAAAAAAAAAAAAAAAAAAAAAAAAAAAAAAAAAAAAAAAAAAAAAAAAAAAAAAAAAAAAAAAAAAAAAAAAAAAAAAAAAAAAAAAAAAAAAAAAAAAAAAAAAAAAAAAAAAAAAAAAAAAAAAAAAAAAAAAAAAAAAAAAAAAAAAAAAAAAAAAAAAAAAAAAAAAAAAAAAAAAAAAAAAAAAAAAAAAAAAAAAAAAAAAAAAAAAAAAAAAAAAAAAAAAAAAAAAAAAAAAAAAAAAAAAAAAAAAAAAAAAAAAAAAAAAAAAAAAAAAAAAAAAAAAAAAAAAAAAAAAAAAAAAAAAAAAAAAAAAAAAAAAAAAAAAAAAAAAAAAAAAAAAAAAAAAAAAAAAAAAAAAAAAAAAAAAAAAAAAAAAAAAAAAAAAAAAAAAAAAAAAAAAAAAAAAAAAAAAAAAAAAAAAAAAAAAAAAAAAAAAAAAAAAAAAAAAAAAAAAAAAAAAAAAAAAAAAAAAAAAAAAAAAAAAAAAAAAAAAAAAAAAAAAAAAAAAAAAAAAAAAAAAAAAAAAAAAAAAAAAAAAAAAAAAAAAAAAAAAAAAAAAAAAAAAAAAAAAAAAAAAAAAAAAAAAAAAAAAAAAAAAAAAAAAAAAAAAAAAAAAAAAAAAAAAAAAAAAAAAAAAAAAAAAAAAAAAAAAAAAAAAAAAAAAAAAAAAAAAAAAAAAAAAAAAAAAAAAAAAAAAAAAAAAAAAAAAAAAAAAAAAAAAAAAAAAAAAAAAAAAAAAAAAAAAAAAAAAAAAAAAAAAAAAAAAAAAAAAAAAAAAAAAAAAAAAAAAAAAAAAAAAAAAAAAAAAAAAAAAAAAAAAAAAAAAAAAAAAAAAAAAAAAAAAAAAAAAAAAAAAAAAAAAAAAAAAAAAAAAAAAAAAAAAAAAAAAAAAAAAAAAAAAAAAAAAAAAAAAAAAAAAAAAAAAAAAAAAAAAAAAAAAAAAAAAAAAAAAAAAAAAAAAAAAAAAAAAAAAAAAAAAAAAAAAAAAAAAAAAAAAAAAAAAAAAAAAAAAAAAAAAAAAAAAAAAAAAAAAAAAAAAAAAAAAAAAAAAAAAAAAAAAAAAAAAAAAAAAAAAAAAAAAAAAAAAAAAAAAAAAAAAAAAAAAAAAAAAAAAAAAAAAAAAAAAAAAAAAAAAAAAAAAAAAAAAAAAAAAAAAAAAAAAAAAAAAAAAAAAAAAAAAAAAAAAAAAAAAAAAAAAAAAAAAAAAAAAAAAAAAAAAAAAAAAAAAAAAAAAAAAAAAAAAAAAAAAAAAAAAAAAAAAAAAAAAAAAAAAAAAAAAAAAAAAAAAAAAAAAAAAAAAAAAAAAAAAAAAAAAAAAAAAAAAAAAAAAAAAAAAAAAAAAAAAAAAAAAAAAAAAAAAAAAAAAAAAAAAAAAAAAAAAAAAAAAAAAAAAAAAAAAAAAAAAAAAAAAAAAAAAAAAAAAAAAAAAAAAAAAAAAAAAAAAAAAAAAAAAAAAAAAAAAAAAAAAAAAAAAAAAAAAAAAAAAAAAAAAAAAAAAAAAAAAAAAAAAAAAAAAAAAAAAAAAAAAAAAAAAAAAAAAAAAAAAAAAAAAAAAAAAAAAAAAAAAAAAAAAAAAAAAAAAAAAAAAAAAAAAAAAAAAAAAAAAAAAAAAAAAAAAAAAAAAAAAAAAAAAAAAAAAAAAAAAAAAAAAAAAAAAAAAAAAAAAAAAAAAAAAAAAAAAAAAAAAAAAAAAAAAAAAAAAAAAAAAAAAAAAAAAAAAAAAAAAAAAAAAAAAAAAAAAAAAAAAAAAAAAAAAAAAAAAAAAAAAAAAAAAAAAAAAAAAAAAAAAAAAAAAAAAAAAAAAAAAAAAAAAAAAAAAAAAAAAAAAAAAAAAAAAAAAAAAAAAAAAAAAAAAAAAAAAAAAAAAAAAAAAAAAAAAAAAAAAAAAAAAAAAAAAAADIwMjE6MDM6MTYgMjM6MTg6MjIAMjAyMTowMzoxNiAyMzoxODoyMgAAAPzIBNYAyQAA/+ELHGh0dHA6Ly9ucy5hZG9iZS5jb20veGFwLzEuMC8APD94cGFja2V0IGJlZ2luPSfvu78nIGlkPSdXNU0wTXBDZWhpSHpyZVN6TlRjemtjOWQnPz4NCjx4OnhtcG1ldGEgeG1sbnM6eD0iYWRvYmU6bnM6bWV0YS8iPjxyZGY6UkRGIHhtbG5zOnJkZj0iaHR0cDovL3d3dy53My5vcmcvMTk5OS8wMi8yMi1yZGYtc3ludGF4LW5zIyI+PHJkZjpEZXNjcmlwdGlvbiByZGY6YWJvdXQ9InV1aWQ6ZmFmNWJkZDUtYmEzZC0xMWRhLWFkMzEtZDMzZDc1MTgyZjFiIiB4bWxuczpkYz0iaHR0cDovL3B1cmwub3JnL2RjL2VsZW1lbnRzLzEuMS8iLz48cmRmOkRlc2NyaXB0aW9uIHJkZjphYm91dD0idXVpZDpmYWY1YmRkNS1iYTNkLTExZGEtYWQzMS1kMzNkNzUxODJmMWIiIHhtbG5zOnhtcD0iaHR0cDovL25zLmFkb2JlLmNvbS94YXAvMS4wLyI+PHhtcDpDcmVhdGVEYXRlPjIwMjEtMDMtMTZUMjM6MTg6MjIuNDk1PC94bXA6Q3JlYXRlRGF0ZT48L3JkZjpEZXNjcmlwdGlvbj48cmRmOkRlc2NyaXB0aW9uIHJkZjphYm91dD0idXVpZDpmYWY1YmRkNS1iYTNkLTExZGEtYWQzMS1kMzNkNzUxODJmMWIiIHhtbG5zOmRjPSJodHRwOi8vcHVybC5vcmcvZGMvZWxlbWVudHMvMS4xLyI+PGRjOmNyZWF0b3I+PHJkZjpTZXEgeG1sbnM6cmRmPSJodHRwOi8vd3d3LnczLm9yZy8xOTk5LzAyLzIyLXJkZi1zeW50YXgtbnMjIj48cmRmOmxpPuyjvO2YhOykgDwvcmRmOmxpPjwvcmRmOlNlcT4NCgkJCTwvZGM6Y3JlYXRvcj48L3JkZjpEZXNjcmlwdGlvbj48L3JkZjpSREY+PC94OnhtcG1ldGE+DQogICAgICAgICAgICAgICAgICAgICAgICAgICAgICAgICAgICAgICAgICAgICAgICAgICAgICAgICAgICAgICAgICAgICAgICAgICAgICAgICAgICAgICAgICAgICAgICAgICAgCiAgICAgICAgICAgICAgICAgICAgICAgICAgICAgICAgICAgICAgICAgICAgICAgICAgICAgICAgICAgICAgICAgICAgICAgICAgICAgICAgICAgICAgICAgICAgICAgICAgICAKICAgICAgICAgICAgICAgICAgICAgICAgICAgICAgICAgICAgICAgICAgICAgICAgICAgICAgICAgICAgICAgICAgICAgICAgICAgICAgICAgICAgICAgICAgICAgICAgICAgIAogICAgICAgICAgICAgICAgICAgICAgICAgICAgICAgICAgICAgICAgICAgICAgICAgICAgICAgICAgICAgICAgICAgICAgICAgICAgICAgICAgICAgICAgICAgICAgICAgICAgCiAgICAgICAgICAgICAgICAgICAgICAgICAgICAgICAgICAgICAgICAgICAgICAgICAgICAgICAgICAgICAgICAgICAgICAgICAgICAgICAgICAgICAgICAgICAgICAgICAgICAKICAgICAgICAgICAgICAgICAgICAgICAgICAgICAgICAgICAgICAgICAgICAgICAgICAgICAgICAgICAgICAgICAgICAgICAgICAgICAgICAgICAgICAgICAgICAgICAgICAgIAogICAgICAgICAgICAgICAgICAgICAgICAgICAgICAgICAgICAgICAgICAgICAgICAgICAgICAgICAgICAgICAgICAgICAgICAgICAgICAgICAgICAgICAgICAgICAgICAgICAgCiAgICAgICAgICAgICAgICAgICAgICAgICAgICAgICAgICAgICAgICAgICAgICAgICAgICAgICAgICAgICAgICAgICAgICAgICAgICAgICAgICAgICAgICAgICAgICAgICAgICAKICAgICAgICAgICAgICAgICAgICAgICAgICAgICAgICAgICAgICAgICAgICAgICAgICAgICAgICAgICAgICAgICAgICAgICAgICAgICAgICAgICAgICAgICAgICAgICAgICAgIAogICAgICAgICAgICAgICAgICAgICAgICAgICAgICAgICAgICAgICAgICAgICAgICAgICAgICAgICAgICAgICAgICAgICAgICAgICAgICAgICAgICAgICAgICAgICAgICAgICAgCiAgICAgICAgICAgICAgICAgICAgICAgICAgICAgICAgICAgICAgICAgICAgICAgICAgICAgICAgICAgICAgICAgICAgICAgICAgICAgICAgICAgICAgICAgICAgICAgICAgICAKICAgICAgICAgICAgICAgICAgICAgICAgICAgICAgICAgICAgICAgICAgICAgICAgICAgICAgICAgICAgICAgICAgICAgICAgICAgICAgICAgICAgICAgICAgICAgICAgICAgIAogICAgICAgICAgICAgICAgICAgICAgICAgICAgICAgICAgICAgICAgICAgICAgICAgICAgICAgICAgICAgICAgICAgICAgICAgICAgICAgICAgICAgICAgICAgICAgICAgICAgCiAgICAgICAgICAgICAgICAgICAgICAgICAgICAgICAgICAgICAgICAgICAgICAgICAgICAgICAgICAgICAgICAgICAgICAgICAgICAgICAgICAgICAgICAgICAgICAgICAgICAKICAgICAgICAgICAgICAgICAgICAgICAgICAgICAgICAgICAgICAgICAgICAgICAgICAgICAgICAgICAgICAgICAgICAgICAgICAgICAgICAgICAgICAgICAgICAgICAgICAgIAogICAgICAgICAgICAgICAgICAgICAgICAgICAgICAgICAgICAgICAgICAgICAgICAgICAgICAgICAgICAgICAgICAgICAgICAgICAgICAgICAgICAgICAgICAgICAgICAgICAgCiAgICAgICAgICAgICAgICAgICAgICAgICAgICAgICAgICAgICAgICAgICAgICAgICAgICAgICAgICAgICAgICAgICAgICAgICAgICAgICAgICAgICAgICAgICAgICAgICAgICAKICAgICAgICAgICAgICAgICAgICAgICAgICAgICAgICAgICAgICAgICAgICAgICAgICAgICAgICAgICAgICAgICAgICAgICAgICAgICAgICAgICAgICAgICAgICAgICAgICAgIAogICAgICAgICAgICAgICAgICAgICAgICAgICAgICAgICAgICAgICAgICAgICAgICAgICAgICAgICAgICAgICAgICAgICAgICAgICAgICAgICAgICAgICAgICAgICAgICAgICAgCiAgICAgICAgICAgICAgICAgICAgICAgICAgICAgICAgICAgICAgICAgICAgICAgICAgICAgICAgICAgICAgICAgICAgICAgICAgICAgICAgICAgICAgICAgICAgICAgICAgICAKICAgICAgICAgICAgICAgICAgICAgICAgICAgIDw/eHBhY2tldCBlbmQ9J3cnPz7/2wBDAAcFBQYFBAcGBQYIBwcIChELCgkJChUPEAwRGBUaGRgVGBcbHichGx0lHRcYIi4iJSgpKywrGiAvMy8qMicqKyr/2wBDAQcICAoJChQLCxQqHBgcKioqKioqKioqKioqKioqKioqKioqKioqKioqKioqKioqKioqKioqKioqKioqKioqKir/wAARCAB+AZcDASIAAhEBAxEB/8QAHwAAAQUBAQEBAQEAAAAAAAAAAAECAwQFBgcICQoL/8QAtRAAAgEDAwIEAwUFBAQAAAF9AQIDAAQRBRIhMUEGE1FhByJxFDKBkaEII0KxwRVS0fAkM2JyggkKFhcYGRolJicoKSo0NTY3ODk6Q0RFRkdISUpTVFVWV1hZWmNkZWZnaGlqc3R1dnd4eXqDhIWGh4iJipKTlJWWl5iZmqKjpKWmp6ipqrKztLW2t7i5usLDxMXGx8jJytLT1NXW19jZ2uHi4+Tl5ufo6erx8vP09fb3+Pn6/8QAHwEAAwEBAQEBAQEBAQAAAAAAAAECAwQFBgcICQoL/8QAtREAAgECBAQDBAcFBAQAAQJ3AAECAxEEBSExBhJBUQdhcRMiMoEIFEKRobHBCSMzUvAVYnLRChYkNOEl8RcYGRomJygpKjU2Nzg5OkNERUZHSElKU1RVVldYWVpjZGVmZ2hpanN0dXZ3eHl6goOEhYaHiImKkpOUlZaXmJmaoqOkpaanqKmqsrO0tba3uLm6wsPExcbHyMnK0tPU1dbX2Nna4uPk5ebn6Onq8vP09fb3+Pn6/9oADAMBAAIRAxEAPwD6RooooAKKKKACiiigAooooAKKKKACiiigAooooAKKKKACiiigAooooAKKKKACiiigAooqvqCQS6bcJdxpLCYzvRxlWGOhoAsUV4j4Zt0+HnxJ02ZE+z6T4wt97RgYSC5xvCgduOBXd6x4S0HxD8QLabUdJtbiaxtjLI8sYJfedq59cbG/OgDs6KRVCKFQAKBgAdqWgAooooAKKKKACiiigAooooAKKKKACiiigAooooAKKKKACiiigAooooAKKKKACiiigAooooAKKKKACiiigAooooAKKKKACiiigAooooAKKKKACkd1jQu7BVUZJJwAKWua8X+GdL1bTLy71CF5pIrZ9imRgoIBIOAcUAbWm6pZavam50y5juYN5TzImDKSOoyKt15n8AOPhNaD/p4l/wDQq9MoAKKKKACsXxW+dDazV9kt9IttGc4OWP8AgDW1WLq3hDQtcvorzVtPS5uISDG7Ow2kdCMGgDD+Kfhdte8BTrp67L/TCt5Yso5R4/mwPqAR+NP+GmqyeJfD58RXEbJJelUXeMEKihSP++w/512KxokQjVfkA2ge1RWVlbadaJa2MKQQJkrGgwBkkn9SaAJ6KKKACiiigAooooAKKKKACiiigAooooAKKKKACiiigAooooAKKKKACiiigAooooAKKKgvr610yykvNQuI7a2iGZJpWCqozjknp1oAnorD0nxr4Y16+Nnomv6df3IUt5Nvcq7YHU4BrcoAKKp6rrGnaHYNe6zfQWNqhAaa4kCICTgcmqmjeLfD/iKR49B1qx1F4xl1tp1kKj1ODQBr0Viat4t0zSL9bCT7RdXzLv8AslnC00oX+8VXkD3qqfH2hR2dxPezTWL26hpLe8haKYA9CEbk5oA6Wis7V/EOkaBapca3qVrp8Mh2rJcyiME4zjJrHT4m+B5M+X4t0dsdcXqf40AdTRXLP8TfA8f3/Fujr9b1P8a6S0u7e/s4buymSe3nQSRSxtuV1IyCCOoIoAlooooAKKKKACiiigArP17/AJF3UP8Ar2k/9BNaFcz4y8S6bo+k3dpeSSfaJrVzHHHGXLZBA6e9AHNfAH/kk9r/ANfM3/oVel15B8DfEFlpvga10XUBPa3/ANpkxFNCy53HI5Ir1+gArk/iD8QLP4d6LFqmpadfXtvJKIybRVPlkgnLbiMDiusqhrmi2XiHRLrStThWa2uYyjqw6e49x1oA8z0H4/2HidZW0Hwlr98ISBJ5Swkr9R5la/8AwtS+/wCif+Jv+/cP/wAcr55Rtb/Z++LWH3y2Dtkj+G5tyf8A0IfzFfXeiazZeINFtdU0yZZrW6jDxup7UAcV/wALUvv+if8Aib/v3D/8cqGf4v3FupaX4f8AikAdcW8R/k9elUUAeK337TOh6Y+zUfCviK0b0nt0T+b16N4E8caZ8QPDSazo6yxRl2jeGYDfGwPQ4JHTB6961NV0HStctXt9X0+3u4nGGEsYP69RXD+EPA4+G3jOe30TzX0DWAWEJywtZlGev90gY570AekUUVBfX1vptjNeXsqxQQoXd2PAAoAnoqjpF/JqenJeSWzWyy/NGjn5inYn0z1xV6gAooooAKKKKACiiigAooooAKKKo6frWm6tNdRabew3MlnJ5U6xuGMbeh9KAL1FFZ2t6qdFsPtrWzz28bDzyn3o07tjvj0oA0aZLNHCm+aRY19XYAUlvcRXVtHcW0iywyqHR1OQwPIINcpLYapqPxFnTVtNjn0JLNfs8rScCTJ3ZXuTx16Y96AOuR1kUMjBlPQg5Bpa8v8AAs8+nfF/xT4dsZJJdFghS4RWYstvMxGY1J6DBJx7V6hQAUUUUAFIyhlIYAg9QRS0UAfP3jW1HhPx2fHtjGI0sddFrfbFxuheGL/Fvzr36GVJ4EliYMjqGVgcgg1wd74di8V6F440aYD/AEq+ZUY/wt9niwfwNVvgv4mfUfhmkGpkre6JutLpW+8uwcE/UCgDM+PH/Ew8EarGOYtOtxKxHQyOcAH6Lz+Irr/hrDHD8MNCMMSq32FDwMZOK5P4nwN/wo3Xr6b/AF1/i4YnupYBOO2ECj8K7H4bf8kz0D/ryT+VAHIfB7WrbUNZ8WrqEirrY1aUTJIfn8sMQgHsBxXQfFTwlH4p8HyCODzL2zcXFuVHzEqclR9a5/x38ErPxVrjeIfDur3Gh6u4+ea2cqsh9Tt5B+lclJqvxO+Ds9tdeKr5PEHhxpRHNKvzPGCeuT82frxQB7xexJJpMyyorDyW4YZ/hrxv9mi3hbw74m3RIca1IoyoOBsXivZJLiO70WS4gYPFLAXRh3BWvB/gBaa7c6F4kOi6nBZxjWJAyyweYS21ec0Ae06tpOh+JLW80e+tbe5wg82Jox8u7OD+hqt4Csn0vwdaaZIG/wBAL2qlhyVjYoD+QFY3w/sNcsPEniVPEt6l9dPNE6TRpsUxkHAA7dDXcR3EUzyJFIrtE21wpyVOM4PpQBJRQenHWuPlj+IxmfyZ/DQjz8oZZ8496AOworjPK+JX/Px4Z/74npVj+JO4bp/DOM84SegDsqKZF5nkp5+3zNo37Ome+M9qcTtUk9AM0ALSMisfmUH6ivPj8cPBCsQbvUMg4/5BVz/8RR/wvHwP/wA/eof+Cq5/+IoA9AEaA5CKD9KdXnv/AAvHwP8A8/eof+Cq5/8AiKP+F4+B/wDn71D/AMFVz/8AEUAehUVR0XWbPxBo1vqmmNI9rcqWjaSJo2IBI5VgCOQeoq9QBwnxZ+HNv8Q/CMlqoVNStgZLOYjo390+x6V4b8DfiLd+BfFMvgzxSWgsppii+bx9nm6fkf8ACvq2vn79on4V/b7VvGWgw4u7df8ATY4xzIo6OB6jv/8AWoA+gQQRkHIPcUV43+z38SZ/GHh19F1UvJqGlxgCYgnzYugJPqOB6nrXslABRRRQAVwni2Ztd8eaH4UU5tVB1G/UfxIh+RT/AMD2n8K7uvOtBJuPj94qkfn7Lp9tDH7BgrH9aAPRQAAABgDoKarqzEKykr1APSqOtm+/sqRNKH+lSkRo/H7vJxv59Otec6U0qfHs6Voksq2WnaWTqDPKziaRmXbuyeWHr160AerUV5r4t1G91H40eFfD1hdTQwQRyX92IZCoYDIVWx1GR0PrXb6hrP2DVtOsRY3Vwb5mHnQxlo4duOXboM54oA06KKyde8TaT4ahhk1m6+zpMSEOwtkjr0HvQBrUVx3/AAtbwf8A9BYf9+X/AMKP+FreD/8AoLD/AL8v/hQB2NFZ2i69p3iGxN5pFx58AcoW2kcj6/Wr0ztHA7ohdlUkKP4jjpQBT1ezbUrFrKK+azaUje8f3yncL6E+vasyLwXp2n3dndaGBpk1sojJiXKzR91cd/r2NcD4zN9Y614Rs7eaX/hItU1ITSyiQnyolILLjOAmCBjocE1t/GjWrzTvB9np+mXEsF9q1/DZo8LlXUE7mII5HC/rQB6LTZEWWNkcZVgQQe4rK1LUW8NeG452tbvUWgWOLy7dDJJIeFz6+5NaqNvjVsFdwBweooA4fwBcPpeua94RmYldMnE1mD2t5PmVfoudv4Vs+J/EsOkLHZQXNtHqN0CIRPIFVB3dvYfrXNO32P8AaKTZ/wAvuiEP77ZBj+VdFrnw+8MeJdQ+265pMN5cbQgeTJIA7frQBV8Gw6FpNxLpuk3iajfXKteXt6rBjK+4AliDxktwPQGuurD8PeDdA8KNM3h/TIbIzgCQxj72K3KACiiigAqOe4itYHmuZFiiQZZ2OABUlR3FtDd27wXUSTROMMjrkH6igDifBHizQ9U8QeJLax1KCWZ9T3Igbl18mMZHqMgj8K5BtI1HQPjtqOladAw0rxRALqV1HEbowLn8ckf8Dr1i38PaPaTpPa6XaQyocq6QqCv0NXzEhlEpRfMAKhscgHqP0FAHm3x11Cxt/hPq1i1xEk7xqI4d3zH5h0Fa/wANNSs7v4ZaRDa3UcssVgodFbJU47iumvND0vUJ/OvtPtriXGN8sQY4+ppbPRtM092axsLe3ZxhjFGFyPTigDg/hh41gudHbTdYLWd1Hdzx27T/ACrcIsjAFCeuOhqz8W7q31HwVceHrMJd6nqwEFrbocnJP3/YDrmuxuND0u60/wCwXOn20tpnPkPECn5dKh0nwvoWgyPJoukWVg7jDNbwKhP5CgCtus/DHg6G01C8jhSC18kSStt3ELXkf7OWt6ZYaB4jS+vobd5NXeRFkfaWUqvIz2r3G906y1GNUv7WG5RTkLKgYA/jVL/hFtB/6A9l/wB+F/woAo6r498LaLZy3l5q9ooVckK4LPjsAOtU/hlqB1vwo+ttGY/7Su5p1VuojLnYD77cVtf8ItoP/QHsv+/C/wCFaVvbw2sCw20SRRIMKiDAH4UASHpXHS+FvFDzM0fjO4RSchfsyHA9K7GigDi/+EU8V/8AQ7XH/gKlKvhTxUGBPjW4IzyPsqc12dFADIVZIUSR/MZVAZyPvH1p9FFAEP2S2/594v8AvgUfZLb/AJ94v++BUrrvRlyRuGMg4IrwH4iXniHwXrbeI9C13WJ9J0i/hhv7O4vZJUkDBWJwTjGGA9qAPefslt/z7xf98Cj7Jbf8+8X/AHwKjsL2HVdLgvLWQPDcxB0dD1BHauD0/wAITXnjnVT/AMJR4iNhZ+Wq239py7fMZQx5z0xxigD0VVVFCooVR0AGAKWkVdqhck4GMk5JpaACuD+I3jCXT44vDXh6JbzxDqoMcEJGVhQ8GR/YfrWn488aweDdGWRImvNTum8qxso+XnkPA+gz1NUPh94Km0b7Rr/iNxd+JNT+a5nPPlL2iT0AoAt/DvwDp/gDw2ljaASXcmHu7nGDK/f6D0FdbRRQAUUVQu9YtrTVrLTX3Pc3m7y0TnAUZLH0FAF+vO9MQ6f+0FrSy/Kup6VFNGT/ABGMqhFeiVxvjnTJ4NQ0vxXp0bSXOkSETxqMmW3fhxjvjO7H+zQB2R6HHWvLPhSEg17xzqGqMsV9JqzCbzDgoi529e3Jruta1O7bwbeal4bVLq7+ytLaL1DtjKiuHkuorzwxbvf6TZ674wuIQhaGyKqr/wB5mZRtC9eeeOBQBW+HV5H4o+KnjDxZCfOsrcpp9qw5+4oLY+p/nXUaZ4r1O5+IS6DcwQiJrA3ciqhD22Wwisc4JPzdh0q18PvB6eC/Csdg0gmvJna4u5h/y0lc5Y/TnH4VmeGtE1mx8Xa3f3dsY5dQvw7XRZSjWyL8iLznOWbqBQB3dMlginAE0SSAdA6g4p9FAFf+z7P/AJ9IP+/Y/wAKP7Ps/wDn0g/79irFFADI4o4V2wxrGvoq4FPoooA8reJ5/wBplJdSG2O20b/Q93CnLtuI96r6/dweL/2gPD+kWcizwaBBLeXYU5UOcKo+o3Vf0/VXvLbUZfiPZWl5cQ3cgsLKOyaSRE6AfdwSeuQcc9av/DrwfNpuoal4l1W0jsr/AFMhYrOMDFpAv3Y+OM9M444oAt+IvFup6Tr2l21tbxmK+1BLRYpEO+RODJIDngKCexzj3rs64bXNG1i5+JNvqsNsZre208w2UgZdsE7sQzsCc8KR0BrrdQ1CHSdJlvL6QKkMe529Tjt9TQBxFsn9oftB3sq8x6Zo6xsR2d2VgPy5r0OuR8A6RdW9rfa3qsZj1HWp/tMkbdYo+kcZ9wuAfeuuoAKKKKACiiigAooooAKKKKACiiigAooooAKKKKACiiigAooooAKKKKACiiigBk0qwQSSvwsalifYDNcba+GofEvw4v7G/Ab+2RPKZGHIDsxjb6hSv5Vs+Mb4WXhm4AcLLcFbeME4LF2C8fgSfwrWtLZLOygtYhiOGNY1+gGB/KgDyv4D+IJT4Tv/AA1qpK3/AIdnaF1Y8+Xzt/k1d14NUyaI9+3J1C4kulbuY3YlP/HSK8h8f2uo+BvjTb6tocRaDxTAbSVV6edkfN+RH617vYWcen6fb2cAxFbxrGg9gMCgCesbxZ4p07wd4cudY1eYRwQj5VzzI3ZR6k1s1Q1fQtL1+2W31mxhvYUbcqTLuAPr+tAHz14Q+Lfg668T3Pi/xzqcrao5MdlZrbO8djF0GCBgsepPvXoX/DRnw5/6Ctx/4Byf4V1X/CtPBf8A0LWnf9+RR/wrTwX/ANC1p3/fkUAcr/w0Z8Of+grcf+Acn+FRTftJfDuNSY7+7lYfwi0cZ/MV1/8AwrTwX/0LWnf9+RR/wrTwX/0LWnf9+RQB5H4h/aq06KB4/DWjSzzEELLdNtQf8BHNbPwDfWfFk2reOfE07T3F232a1BGFjjXk7R2GePwr0P8A4Vp4L/6FrTv+/Ire07TLLSLCOy0u2jtbaPOyKJcKuTk8fU0AWqCAQQRkHqDRRQBXsrC206Ew2UQijLF9ik4BPXA7fhU4VVJIUAnrgdaWigAooooAKKKKACiiigAooooATau7dtG71xS0UUAFVrzT7XUPKF5CJlicSIrE43DoSOh/GrNFABRRRQAUUUUAFFFFABRRRQAUUUUAFFFFABRRRQAUUUUAFFFFABRRRQAUUUUAFFFFAHJ+IPhtoHie/W71htSldHEiImpTokbDoVRWAU+4FdJYWUenWMVrC80iRjAaeVpXP1ZiSfxqxRQBR1HRrDVpbOS/t1leynFxAx/gcAjP69KvUUUAFFFFAGdrL6ukEH9hRW0kpnQS/aGICx5+YjHfFaIzgZ6968+1C81T/hZmi6bBdsLhzNdXiq2Y0tgCqLj1JHXrkntWxr32j+0z5XitNMXaP9HKIce/PNAHU0yZ2jhd44zK6jIQEAsfTmuGzd/9D9H/AN+466Pw55n2aXztbXVzu/1gCjZ7cUAY2ieL9S1H4i6j4dv7CO0Szs0uFIfcx3Hvjj8q7KvOdI/5OH8Qf9gm3/nXo1ABRRRQAUUUUAFFFFABRRRQAUUUUAFFFFABRRRQAUUUUAFFFFABRRRQAUUUUAFFFFABRRRQAUUUUAFFFFABRRRQAUUUUAFFFFABRRRQAUUUUAFFFFABRRRQAUUUUAcnJ4Ombxlf6wt4vlahFFFKpB3oidUX2bv9TW3deH9IvpvOvNOtp5MBd8kYY4HvWjRQBkf8InoH/QGsv+/K1bttMtdMt5E0m0t7dm52qu1SffFXKKAODsvCniW1+IV74oafTGN5bR2z24Z/lVT1DbeT+Fd4OnPWiigAooooAKKKKACiiigAooooAKKKKACiiigAooooAKKKKACiiigAooooAKKKKAP/2Q==)\n",
        "\n",
        "\n",
        "MAE(mean absolute error)는 평균 절대 오차라고도 불리며, 실제값과 예측값의 오차 절대값을 평균한 것이다.\n",
        "\n",
        "![image.png](data:image/png;base64,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)\n",
        "\n",
        "두 식의 결과가 모두 0에 가까울수록 모델의 예측 정밀도가 높음을 의미한다.\n",
        "\n",
        "완전히 동일한 데이터 세트에 계산한 경우에만 상대적으로 크고 작음을 비교할 수 있다.\n",
        "\n"
      ]
    },
    {
      "cell_type": "code",
      "metadata": {
        "id": "bsjZsMpPaJBG"
      },
      "source": [
        "# 컴파일\n",
        "model.compile(loss='mse', optimizer=Adam(lr=0.001), metrics=['mae'])"
      ],
      "execution_count": null,
      "outputs": []
    },
    {
      "cell_type": "markdown",
      "metadata": {
        "id": "rqBefsXCaSzC"
      },
      "source": [
        "# 학습\n",
        "* EarlyStopping 준비\n",
        "\n",
        "EarlyStopping는 지정된만큼 이폭을 반복하는 동안 개선이 없으면 학습을 중지하는 콜백이다. 콜백은 fit()에 인수를 지정해 1 이폭마다 임의의 처리를 실행하는 기능이다.\n",
        "\n",
        "callbacks\n",
        "\n",
        "EarlyStopping(monitor='val_loss', patience=0)\n",
        "\n",
        "- 인수 : \n",
        "         monitor(str타입) 감시하는 값\n",
        "\n",
        "         patience(int타입) 개선이 없으면 학습을 중지할 이폭 수\n"
      ]
    },
    {
      "cell_type": "code",
      "metadata": {
        "id": "9SK7o3iya0dO"
      },
      "source": [
        "# EarlyStopping 준비\n",
        "early_stop = EarlyStopping(monitor='val_loss', patience=20)"
      ],
      "execution_count": null,
      "outputs": []
    },
    {
      "cell_type": "code",
      "metadata": {
        "colab": {
          "base_uri": "https://localhost:8080/"
        },
        "id": "Fosnu9QRbGqF",
        "outputId": "3317b191-391e-4f01-b4ec-3e1fc55a7171"
      },
      "source": [
        "# 학습 실행\n",
        "history = model.fit(train_data, train_labels, epochs=500,\n",
        "                    validation_split=0.2, callbacks=[early_stop])"
      ],
      "execution_count": null,
      "outputs": [
        {
          "output_type": "stream",
          "text": [
            "Epoch 1/500\n",
            "11/11 [==============================] - 0s 11ms/step - loss: 6.0454 - mae: 1.7423 - val_loss: 6.9611 - val_mae: 2.0264\n",
            "Epoch 2/500\n",
            "11/11 [==============================] - 0s 6ms/step - loss: 6.1746 - mae: 1.7599 - val_loss: 6.7156 - val_mae: 1.9704\n",
            "Epoch 3/500\n",
            "11/11 [==============================] - 0s 7ms/step - loss: 6.1892 - mae: 1.7632 - val_loss: 7.4105 - val_mae: 2.1050\n",
            "Epoch 4/500\n",
            "11/11 [==============================] - 0s 7ms/step - loss: 5.8577 - mae: 1.7065 - val_loss: 6.7761 - val_mae: 1.9902\n",
            "Epoch 5/500\n",
            "11/11 [==============================] - 0s 6ms/step - loss: 5.8919 - mae: 1.6847 - val_loss: 7.3051 - val_mae: 2.0653\n",
            "Epoch 6/500\n",
            "11/11 [==============================] - 0s 6ms/step - loss: 5.9382 - mae: 1.7348 - val_loss: 7.3624 - val_mae: 2.1005\n",
            "Epoch 7/500\n",
            "11/11 [==============================] - 0s 5ms/step - loss: 5.8011 - mae: 1.7117 - val_loss: 6.8896 - val_mae: 2.0179\n",
            "Epoch 8/500\n",
            "11/11 [==============================] - 0s 6ms/step - loss: 5.8444 - mae: 1.7054 - val_loss: 6.2739 - val_mae: 1.9310\n",
            "Epoch 9/500\n",
            "11/11 [==============================] - 0s 6ms/step - loss: 5.8280 - mae: 1.7121 - val_loss: 6.4518 - val_mae: 1.9831\n",
            "Epoch 10/500\n",
            "11/11 [==============================] - 0s 6ms/step - loss: 5.7705 - mae: 1.6933 - val_loss: 6.6806 - val_mae: 2.0018\n",
            "Epoch 11/500\n",
            "11/11 [==============================] - 0s 6ms/step - loss: 5.8090 - mae: 1.7222 - val_loss: 6.8101 - val_mae: 2.0176\n",
            "Epoch 12/500\n",
            "11/11 [==============================] - 0s 5ms/step - loss: 5.6064 - mae: 1.6720 - val_loss: 6.9109 - val_mae: 2.0132\n",
            "Epoch 13/500\n",
            "11/11 [==============================] - 0s 6ms/step - loss: 5.7430 - mae: 1.6720 - val_loss: 6.7364 - val_mae: 1.9698\n",
            "Epoch 14/500\n",
            "11/11 [==============================] - 0s 6ms/step - loss: 7.1168 - mae: 1.9017 - val_loss: 7.6918 - val_mae: 2.1844\n",
            "Epoch 15/500\n",
            "11/11 [==============================] - 0s 6ms/step - loss: 5.9374 - mae: 1.7533 - val_loss: 6.5925 - val_mae: 1.9410\n",
            "Epoch 16/500\n",
            "11/11 [==============================] - 0s 6ms/step - loss: 5.9639 - mae: 1.7264 - val_loss: 6.6614 - val_mae: 1.9685\n",
            "Epoch 17/500\n",
            "11/11 [==============================] - 0s 5ms/step - loss: 5.9363 - mae: 1.7662 - val_loss: 7.7352 - val_mae: 2.1597\n",
            "Epoch 18/500\n",
            "11/11 [==============================] - 0s 6ms/step - loss: 6.4208 - mae: 1.8383 - val_loss: 7.0766 - val_mae: 2.0425\n",
            "Epoch 19/500\n",
            "11/11 [==============================] - 0s 6ms/step - loss: 5.7512 - mae: 1.7069 - val_loss: 6.3126 - val_mae: 1.8971\n",
            "Epoch 20/500\n",
            "11/11 [==============================] - 0s 6ms/step - loss: 5.6663 - mae: 1.7066 - val_loss: 7.3831 - val_mae: 2.1048\n",
            "Epoch 21/500\n",
            "11/11 [==============================] - 0s 5ms/step - loss: 5.5169 - mae: 1.6686 - val_loss: 6.6520 - val_mae: 1.9670\n",
            "Epoch 22/500\n",
            "11/11 [==============================] - 0s 6ms/step - loss: 5.4822 - mae: 1.6786 - val_loss: 6.6201 - val_mae: 1.9682\n",
            "Epoch 23/500\n",
            "11/11 [==============================] - 0s 6ms/step - loss: 5.4213 - mae: 1.6385 - val_loss: 6.9262 - val_mae: 2.0148\n",
            "Epoch 24/500\n",
            "11/11 [==============================] - 0s 6ms/step - loss: 5.3666 - mae: 1.6319 - val_loss: 6.8921 - val_mae: 2.0045\n",
            "Epoch 25/500\n",
            "11/11 [==============================] - 0s 6ms/step - loss: 5.3299 - mae: 1.6320 - val_loss: 6.8915 - val_mae: 2.0058\n",
            "Epoch 26/500\n",
            "11/11 [==============================] - 0s 5ms/step - loss: 5.2770 - mae: 1.6285 - val_loss: 7.0062 - val_mae: 2.0474\n",
            "Epoch 27/500\n",
            "11/11 [==============================] - 0s 5ms/step - loss: 5.5912 - mae: 1.6879 - val_loss: 6.9543 - val_mae: 2.0588\n",
            "Epoch 28/500\n",
            "11/11 [==============================] - 0s 6ms/step - loss: 5.4456 - mae: 1.6581 - val_loss: 6.4824 - val_mae: 1.9465\n"
          ],
          "name": "stdout"
        }
      ]
    },
    {
      "cell_type": "markdown",
      "metadata": {
        "id": "5SLLUWNCbfON"
      },
      "source": [
        "학습 중 출력되는 정보\n",
        "\n",
        "loss : 훈련 데이터 오차. 0에 가까울수록 좋다.\n",
        "\n",
        "mean_absolute_error : 훈련 데이터 평균 절대 오차. 0에 가까울수록 좋다.\n",
        "\n",
        "val_loss : 검증 데이터 오차. 0에 가까울수록 좋다.\n",
        "\n",
        "val_mean_absolute_error : 검증 데이터 평균 절대 오차. 0에 가까울수록 좋다."
      ]
    },
    {
      "cell_type": "markdown",
      "metadata": {
        "id": "AhND-IYqb0uO"
      },
      "source": [
        "# 그래프 표시\n",
        "\n",
        "fit()의 반환값 'history'에는 'loss'와 'val_loss'는 컴파일 시의 손실 함수, 그 이외에는 평가지표에서 지정한 것이다."
      ]
    },
    {
      "cell_type": "code",
      "metadata": {
        "colab": {
          "base_uri": "https://localhost:8080/"
        },
        "id": "Ji76HvFYbzQT",
        "outputId": "2d230bb6-a65e-4780-d0c5-f00d986cab2b"
      },
      "source": [
        "print(history.history)"
      ],
      "execution_count": null,
      "outputs": [
        {
          "output_type": "stream",
          "text": [
            "{'loss': [6.045417308807373, 6.174623966217041, 6.189233779907227, 5.857738494873047, 5.891939163208008, 5.9381537437438965, 5.801117420196533, 5.844412326812744, 5.827983379364014, 5.770547389984131, 5.80897855758667, 5.606435298919678, 5.742994785308838, 7.116840362548828, 5.937436103820801, 5.9638895988464355, 5.936316013336182, 6.4208245277404785, 5.751166343688965, 5.666335582733154, 5.516897678375244, 5.4822163581848145, 5.421261787414551, 5.366643905639648, 5.32990837097168, 5.277029514312744, 5.591243267059326, 5.445572853088379], 'mae': [1.7423135042190552, 1.759942650794983, 1.763150930404663, 1.7065013647079468, 1.6846843957901, 1.734823226928711, 1.711652159690857, 1.7054388523101807, 1.712091088294983, 1.6932531595230103, 1.7221959829330444, 1.6720293760299683, 1.6720255613327026, 1.9017086029052734, 1.7532784938812256, 1.7263942956924438, 1.7662382125854492, 1.8383046388626099, 1.7069324254989624, 1.7066363096237183, 1.6686478853225708, 1.6786295175552368, 1.638519525527954, 1.6318562030792236, 1.6320422887802124, 1.6285429000854492, 1.6879194974899292, 1.6580767631530762], 'val_loss': [6.961063385009766, 6.715572357177734, 7.4105143547058105, 6.776094436645508, 7.3050537109375, 7.362391948699951, 6.889638423919678, 6.273890018463135, 6.4518280029296875, 6.680635452270508, 6.810087203979492, 6.910917282104492, 6.736382961273193, 7.691791534423828, 6.5925068855285645, 6.661444664001465, 7.7351579666137695, 7.076600074768066, 6.312577247619629, 7.383113861083984, 6.652024269104004, 6.620057106018066, 6.926197052001953, 6.892101764678955, 6.891453266143799, 7.006241321563721, 6.954343318939209, 6.482442855834961], 'val_mae': [2.026388168334961, 1.9704384803771973, 2.1050243377685547, 1.9902464151382446, 2.065268039703369, 2.100499391555786, 2.017923593521118, 1.9310466051101685, 1.9831078052520752, 2.0017716884613037, 2.0176262855529785, 2.0131688117980957, 1.9698002338409424, 2.184441328048706, 1.9410364627838135, 1.9684844017028809, 2.1596646308898926, 2.0425455570220947, 1.8971030712127686, 2.1048402786254883, 1.9669806957244873, 1.9681743383407593, 2.0147640705108643, 2.0045108795166016, 2.0057811737060547, 2.0474331378936768, 2.0587565898895264, 1.9465208053588867]}\n"
          ],
          "name": "stdout"
        }
      ]
    },
    {
      "cell_type": "code",
      "metadata": {
        "colab": {
          "base_uri": "https://localhost:8080/",
          "height": 283
        },
        "id": "8nl0cSAscVvZ",
        "outputId": "bd0b2f93-b506-41d0-9e2c-f853b926c094"
      },
      "source": [
        "# 위 정보를 matplotlib을 활용해 그래프로 표시\n",
        "plt.plot(history.history['mae'], label='train mae')\n",
        "plt.plot(history.history['val_mae'], label='val mae')\n",
        "plt.xlabel('epoch')\n",
        "plt.ylabel('mae [1000$]')\n",
        "plt.legend(loc='best')\n",
        "plt.ylim([0,5])\n",
        "plt.show()"
      ],
      "execution_count": null,
      "outputs": [
        {
          "output_type": "display_data",
          "data": {
            "image/png": "[encoded data removed]",
            "text/plain": [
              "<Figure size 432x288 with 1 Axes>"
            ]
          },
          "metadata": {
            "tags": [],
            "needs_background": "light"
          }
        }
      ]
    },
    {
      "cell_type": "code",
      "metadata": {
        "colab": {
          "base_uri": "https://localhost:8080/"
        },
        "id": "TutBEQZceGrH",
        "outputId": "6bcb04b3-1ee4-4880-857d-912d00c2800c"
      },
      "source": [
        "# 평가\n",
        "# 테스트 이미지와 테스트 라벨 배열을 모델에 전달해 평가를 실행하고, 평균 절대 오차를 얻는다.\n",
        "test_loss, test_mae =model.evaluate(test_data,test_labels)\n",
        "print('loss: {:.3f}\\nmae:{:.3f}'.format(test_loss, test_mae))"
      ],
      "execution_count": null,
      "outputs": [
        {
          "output_type": "stream",
          "text": [
            "4/4 [==============================] - 0s 2ms/step - loss: 16.2568 - mae: 2.6572\n",
            "loss: 16.257\n",
            "mae:2.657\n"
          ],
          "name": "stdout"
        }
      ]
    },
    {
      "cell_type": "markdown",
      "metadata": {
        "id": "bWI63nbbevWT"
      },
      "source": [
        "# 추론\n",
        "마지막으로 테스트 데이터 중 첫 10개로 추론을 수행해서 예측 결과를 얻는다. \n",
        "\n",
        "출력은 2차원 배열이므로 flatten()을 사용해 1차원 배열로 변환한 뒤 표시\n",
        "\n",
        "실제 가격과 가까운 가격으로 추론하는지 볼 수 있다."
      ]
    },
    {
      "cell_type": "code",
      "metadata": {
        "colab": {
          "base_uri": "https://localhost:8080/"
        },
        "id": "qEzcQxLHe9ar",
        "outputId": "e45b2fad-5865-42ae-d997-ef6f4db7d517"
      },
      "source": [
        "# 실제 가격 표시\n",
        "print(np.round(test_labels[0:10]))\n",
        "\n",
        "# 추론한 가격 표시\n",
        "test_predictions = model.predict(test_data[0:10]).flatten()\n",
        "print(np.round(test_predictions))"
      ],
      "execution_count": null,
      "outputs": [
        {
          "output_type": "stream",
          "text": [
            "[ 7. 19. 19. 27. 22. 24. 31. 23. 20. 23.]\n",
            "[ 7. 20. 24. 32. 26. 23. 28. 22. 20. 21.]\n"
          ],
          "name": "stdout"
        }
      ]
    }
  ]
}